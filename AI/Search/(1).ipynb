{
  "cells": [
    {
      "cell_type": "markdown",
      "metadata": {
        "id": "VTz-YA-trFE0"
      },
      "source": [
        "##  Search\n",
        "Name: Jonathan  Lopez\n",
        "\n",
        "Team Mate: Andrew Reigle"
      ]
    },
    {
      "cell_type": "markdown",
      "metadata": {
        "id": "wd1v4Be03d2B"
      },
      "source": [
        "### The following code snippet uses a dictionary of dictionaries to encode the Romania roadmap and demonstrates how to get the elements."
      ]
    },
    {
      "cell_type": "code",
      "execution_count": 1,
      "metadata": {
        "id": "MjrZKVm8tLfR"
      },
      "outputs": [],
      "source": [
        "roadmap = dict(\n",
        "    Arad=dict(Zerind=75, Sibiu=140, Timisoara=118),\n",
        "    Bucharest=dict(Urziceni=85, Pitesti=101, Giurgiu=90, Fagaras=211),\n",
        "    Craiova=dict(Drobeta=120, Rimnicu=146, Pitesti=138),\n",
        "    Drobeta=dict(Craiova=120, Mehadia=75),\n",
        "    Eforie=dict(Hirsova=86),\n",
        "    Fagaras=dict(Bucharest=211, Sibiu=99),\n",
        "    Giurgiu=dict(Bucharest=90),\n",
        "    Hirsova=dict(Eforie=86, Urziceni=98),\n",
        "    Iasi=dict(Vaslui=92, Neamt=87),\n",
        "    Lugoj=dict(Timisoara=111, Mehadia=70),\n",
        "    Mehadia=dict(Lugoj=70, Drobeta=75),\n",
        "    Neamt=dict(Iasi=87),\n",
        "    Oradea=dict(Zerind=71, Sibiu=151),\n",
        "    Pitesti=dict(Bucharest=101, Rimnicu=97, Craiova=138),\n",
        "    Rimnicu=dict(Craiova=146, Sibiu=80, Pitesti=97),\n",
        "    Sibiu=dict(Arad=140, Fagaras=99, Oradea=151, Rimnicu=80),\n",
        "    Timisoara=dict(Arad=118,Lugoj=111),\n",
        "    Vaslui=dict(Iasi=92, Urziceni=98),\n",
        "    Urziceni=dict(Vaslui=142, Bucharest=85, Hirsova=98),\n",
        "    Zerind=dict(Arad=75, Oradea=71))\n",
        "\n",
        "# Demonstration of how to use this data structure\n",
        "#  by printing the map elements and performing a sanity check -\n",
        "# for city, neighbors in roadmap.items():\n",
        "#   print(city, neighbors)\n",
        "#   for next_city, distance in neighbors.items():\n",
        "#     print(\"  The distance from %s to %s is %d\" % (city, next_city, distance))\n",
        "#     if next_city not in roadmap:\n",
        "#       print(\" ----- ERROR! %s is not in the city node list -----\" % next_city)\n"
      ]
    },
    {
      "cell_type": "markdown",
      "metadata": {
        "id": "S4k3e_qyr30C"
      },
      "source": [
        "**Your code starts below.  Please organized them in multiple cells with a formatted text cell before each code cell to explain the purpose of the code cell**"
      ]
    },
    {
      "cell_type": "markdown",
      "source": [
        "The BFS implementation explores all nodes at the current depth level before moving to the next level and uses a FIFO queue for the management of the frontier. Takes in arguments for starting city, goal city  and dictionary of the roadmap, returning the path, total cost and expanded nodes."
      ],
      "metadata": {
        "id": "7p9kZ7sQBlRw"
      }
    },
    {
      "cell_type": "markdown",
      "metadata": {
        "id": "0ONnHXJ0BTNS"
      },
      "source": []
    },
    {
      "cell_type": "code",
      "execution_count": 7,
      "metadata": {
        "id": "7x3mlu8Kr_Cq",
        "colab": {
          "base_uri": "https://localhost:8080/"
        },
        "outputId": "248c69cd-18b8-4c85-c024-0c3b7fd7f0ac"
      },
      "outputs": [
        {
          "output_type": "stream",
          "name": "stdout",
          "text": [
            "BFS Node expanded: Arad(0)\n",
            " BFS Frontier: ['Arad->Zerind(75)', 'Arad->Sibiu(140)', 'Arad->Timisoara(118)']\n",
            "\n",
            "BFS Node expanded: Arad->Zerind(75)\n",
            " BFS Frontier: ['Arad->Sibiu(140)', 'Arad->Timisoara(118)', 'Zerind->Oradea(146)']\n",
            "\n",
            "BFS Node expanded: Arad->Sibiu(140)\n",
            " BFS Frontier: ['Arad->Timisoara(118)', 'Zerind->Oradea(146)', 'Sibiu->Fagaras(239)', 'Sibiu->Oradea(291)', 'Sibiu->Rimnicu(220)']\n",
            "\n",
            "BFS Node expanded: Arad->Timisoara(118)\n",
            " BFS Frontier: ['Zerind->Oradea(146)', 'Sibiu->Fagaras(239)', 'Sibiu->Oradea(291)', 'Sibiu->Rimnicu(220)', 'Timisoara->Lugoj(229)']\n",
            "\n",
            "BFS Node expanded: Zerind->Oradea(146)\n",
            " BFS Frontier: ['Sibiu->Fagaras(239)', 'Sibiu->Oradea(291)', 'Sibiu->Rimnicu(220)', 'Timisoara->Lugoj(229)']\n",
            "\n",
            "BFS Node expanded: Sibiu->Fagaras(239)\n",
            " BFS Frontier: ['Sibiu->Oradea(291)', 'Sibiu->Rimnicu(220)', 'Timisoara->Lugoj(229)', 'Fagaras->Bucharest(450)']\n",
            "\n",
            "BFS Node expanded: Sibiu->Rimnicu(220)\n",
            " BFS Frontier: ['Timisoara->Lugoj(229)', 'Fagaras->Bucharest(450)', 'Rimnicu->Craiova(366)', 'Rimnicu->Pitesti(317)']\n",
            "\n",
            "BFS Node expanded: Timisoara->Lugoj(229)\n",
            " BFS Frontier: ['Fagaras->Bucharest(450)', 'Rimnicu->Craiova(366)', 'Rimnicu->Pitesti(317)', 'Lugoj->Mehadia(299)']\n",
            "\n",
            "BFS Path: ['Arad', 'Sibiu', 'Fagaras', 'Bucharest']\n",
            "Total Cost: 450\n",
            "Nodes Expanded: ['Arad', 'Zerind', 'Sibiu', 'Timisoara', 'Oradea', 'Fagaras', 'Rimnicu', 'Lugoj']\n"
          ]
        }
      ],
      "source": [
        "#BFS Implementation\n",
        "from collections import deque\n",
        "\n",
        "def bfs(start, goal, roadmap):\n",
        "    #initialize frontier with the start node\n",
        "    frontier = deque([{'city': start, 'parent': None, 'cost': 0}])\n",
        "    reached = {} # tracks reached nodes and their associated costs\n",
        "    expanded = [] # tracks expanded nodes for performance comparison\n",
        "\n",
        "    while frontier:\n",
        "        current_node = frontier.popleft()\n",
        "        current_city = current_node['city']\n",
        "\n",
        "        #skip if already reached with a lower cost\n",
        "        if current_city in reached:\n",
        "            continue\n",
        "        reached[current_city] = current_node['cost']\n",
        "        # expanded.append(current_city) *** commented out to change adding bucharest to nodes expanded\n",
        "\n",
        "        # Check if goal is reached, then reconstruct path\n",
        "        if current_city == goal:\n",
        "            path = []\n",
        "            node = current_node\n",
        "            while node:\n",
        "                path.append(node['city'])\n",
        "                node = node['parent']\n",
        "            path.reverse()\n",
        "            return {\n",
        "                'path': path,\n",
        "                'cost': current_node['cost'],\n",
        "                'expanded': expanded\n",
        "            }\n",
        "\n",
        "         # Now we add the current node since it's not the goal.\n",
        "        expanded.append(current_city)\n",
        "\n",
        "        # Expand neighbors and add to frontier\n",
        "        for neighbor in roadmap[current_city]:\n",
        "            new_cost = current_node['cost'] + roadmap[current_city][neighbor]\n",
        "\n",
        "            # ***without the condition to check reached, we add duplicate paths(parent nodes)\n",
        "            # frontier.append({'city': neighbor, 'parent': current_node, 'cost': new_cost})\n",
        "\n",
        "            #***added this condition to ensure only new or cheaper paths are added to frontier to reduce redunancy\n",
        "            if neighbor not in reached or new_cost < reached.get(neighbor, float('inf')):\n",
        "                frontier.append({'city': neighbor, 'parent': current_node, 'cost': new_cost})\n",
        "\n",
        "        # Print step details\n",
        "        parent_str = current_node['parent']['city'] if current_node['parent'] else None\n",
        "        current_str = f\"{parent_str}->{current_city}({current_node['cost']})\" if parent_str else f\"{current_city}(0)\"\n",
        "        print(f\"BFS Node expanded: {current_str}\")\n",
        "        frontier_str = [f\"{node['parent']['city']}->{node['city']}({node['cost']})\" if node['parent'] else f\"{node['city']}(0)\" for node in frontier]\n",
        "        print(f\" BFS Frontier: {frontier_str}\\n\")\n",
        "\n",
        "    return None\n",
        "\n",
        "# Test BFS\n",
        "bfs_result = bfs('Arad', 'Bucharest', roadmap)\n",
        "print(\"BFS Path:\", bfs_result['path'])\n",
        "print(\"Total Cost:\", bfs_result['cost'])\n",
        "print(\"Nodes Expanded:\", bfs_result['expanded'])"
      ]
    },
    {
      "cell_type": "markdown",
      "source": [
        "The Depth-first search implementation explores the deepest node first using a LIFO stack, so it does not guarantee the shortest path. Takes in the same arguments as BFS(starting city, goal strings and roadmap dictionary), returning the reached and expaned nodes."
      ],
      "metadata": {
        "id": "7cm-khZbCPZ0"
      }
    },
    {
      "cell_type": "markdown",
      "metadata": {
        "id": "gOYa9PYfBTNT"
      },
      "source": []
    },
    {
      "cell_type": "code",
      "execution_count": 8,
      "metadata": {
        "colab": {
          "base_uri": "https://localhost:8080/"
        },
        "id": "-ExqqsL1BTNU",
        "outputId": "719b756d-0b82-4e8d-a23f-1533b9165544"
      },
      "outputs": [
        {
          "output_type": "stream",
          "name": "stdout",
          "text": [
            "DFS Node expanded: Arad(0)\n",
            "DFS Frontier: ['Arad->Timisoara(118)', 'Arad->Sibiu(140)', 'Arad->Zerind(75)']\n",
            "\n",
            "DFS Node expanded: Arad->Zerind(75)\n",
            "DFS Frontier: ['Arad->Timisoara(118)', 'Arad->Sibiu(140)', 'Zerind->Oradea(146)']\n",
            "\n",
            "DFS Node expanded: Zerind->Oradea(146)\n",
            "DFS Frontier: ['Arad->Timisoara(118)', 'Arad->Sibiu(140)', 'Oradea->Sibiu(297)']\n",
            "\n",
            "DFS Node expanded: Oradea->Sibiu(297)\n",
            "DFS Frontier: ['Arad->Timisoara(118)', 'Arad->Sibiu(140)', 'Sibiu->Rimnicu(377)', 'Sibiu->Fagaras(396)']\n",
            "\n",
            "DFS Node expanded: Sibiu->Fagaras(396)\n",
            "DFS Frontier: ['Arad->Timisoara(118)', 'Arad->Sibiu(140)', 'Sibiu->Rimnicu(377)', 'Fagaras->Bucharest(607)']\n",
            "\n",
            "DFS Path: ['Arad', 'Zerind', 'Oradea', 'Sibiu', 'Fagaras', 'Bucharest']\n",
            "Total Cost: 607\n",
            "Nodes Expanded: ['Arad', 'Zerind', 'Oradea', 'Sibiu', 'Fagaras']\n"
          ]
        }
      ],
      "source": [
        "#DFS Implementation\n",
        "\n",
        "def dfs(start, goal, roadmap):\n",
        "    frontier = [{'city': start, 'parent': None, 'cost': 0}]\n",
        "    reached = {}  # Track {city: best_cost}\n",
        "    expanded = []\n",
        "\n",
        "    while frontier:\n",
        "        current_node = frontier.pop()\n",
        "        current_city = current_node['city']\n",
        "\n",
        "        # Skip if already reached with a lower or equal cost\n",
        "        if current_city in reached and current_node['cost'] >= reached[current_city]:\n",
        "            continue\n",
        "        reached[current_city] = current_node['cost']  # Update best cost\n",
        "        # expanded.append(current_city) *** also commented out to prevent adding goal node to total nodes expanded\n",
        "\n",
        "        # Check if goal is reached\n",
        "        if current_city == goal:\n",
        "            path = []\n",
        "            node = current_node\n",
        "            while node:\n",
        "                path.append(node['city'])\n",
        "                node = node['parent']\n",
        "            path.reverse()\n",
        "            return {\n",
        "                'path': path,\n",
        "                'cost': current_node['cost'],\n",
        "                'expanded': expanded\n",
        "            }\n",
        "\n",
        "        # Now add the node to expanded only if it's not the goal.\n",
        "        expanded.append(current_city)\n",
        "\n",
        "        # Expand neighbors in reverse order (for LIFO)\n",
        "        neighbors = list(roadmap[current_city].keys())[::-1]\n",
        "        for neighbor in neighbors:\n",
        "            new_cost = current_node['cost'] + roadmap[current_city][neighbor]\n",
        "            # Add to frontier ONLY if neighbor not in reached or new_cost < existing cost\n",
        "            if neighbor not in reached or new_cost < reached.get(neighbor, float('inf')):\n",
        "                frontier.append({'city': neighbor, 'parent': current_node, 'cost': new_cost})\n",
        "\n",
        "        # Print step\n",
        "        parent_str = current_node['parent']['city'] if current_node['parent'] else None\n",
        "        current_str = f\"{parent_str}->{current_city}({current_node['cost']})\" if parent_str else f\"{current_city}(0)\"\n",
        "        print(f\"DFS Node expanded: {current_str}\")\n",
        "        frontier_str = [f\"{node['parent']['city']}->{node['city']}({node['cost']})\" if node['parent'] else f\"{node['city']}(0)\" for node in frontier]\n",
        "        print(f\"DFS Frontier: {frontier_str}\\n\")\n",
        "\n",
        "    return None\n",
        "\n",
        "\n",
        "# Test DFS\n",
        "dfs_result = dfs('Arad', 'Bucharest', roadmap)\n",
        "print(\"DFS Path:\", dfs_result['path'])\n",
        "print(\"Total Cost:\", dfs_result['cost'])\n",
        "print(\"Nodes Expanded:\", dfs_result['expanded'])\n",
        "\n"
      ]
    },
    {
      "cell_type": "markdown",
      "source": [
        "A* search is supposed to combine path cost g(n) and heuristic h(n) in order to prioritize nodes. This implementation uses a priority queue sorted by the sum of both path and heuristic costs. This implimentation required creating a heuristic dictionary of the straight line distances to Bucharest."
      ],
      "metadata": {
        "id": "cL_pu02fCVMe"
      }
    },
    {
      "cell_type": "markdown",
      "metadata": {
        "id": "9oZb2Al9BTNV"
      },
      "source": []
    },
    {
      "cell_type": "code",
      "execution_count": 9,
      "metadata": {
        "colab": {
          "base_uri": "https://localhost:8080/"
        },
        "id": "0FXJtSzdBTNV",
        "outputId": "dbae4eb8-8fd2-4bf1-f2eb-f4b9f36117f7"
      },
      "outputs": [
        {
          "output_type": "stream",
          "name": "stdout",
          "text": [
            " A* Node expanded: Arad(0, 366)\n",
            "A* Frontier: ['Arad->Sibiu(140, 393)', 'Arad->Zerind(75, 449)', 'Arad->Timisoara(118, 447)']\n",
            "\n",
            " A* Node expanded: Arad->Sibiu(140, 393)\n",
            "A* Frontier: ['Sibiu->Rimnicu(220, 413)', 'Sibiu->Fagaras(239, 415)', 'Arad->Timisoara(118, 447)', 'Sibiu->Oradea(291, 671)', 'Arad->Zerind(75, 449)']\n",
            "\n",
            " A* Node expanded: Sibiu->Rimnicu(220, 413)\n",
            "A* Frontier: ['Sibiu->Fagaras(239, 415)', 'Arad->Zerind(75, 449)', 'Rimnicu->Pitesti(317, 417)', 'Sibiu->Oradea(291, 671)', 'Rimnicu->Craiova(366, 526)', 'Arad->Timisoara(118, 447)']\n",
            "\n",
            " A* Node expanded: Sibiu->Fagaras(239, 415)\n",
            "A* Frontier: ['Rimnicu->Pitesti(317, 417)', 'Arad->Zerind(75, 449)', 'Arad->Timisoara(118, 447)', 'Sibiu->Oradea(291, 671)', 'Rimnicu->Craiova(366, 526)', 'Fagaras->Bucharest(450, 450)']\n",
            "\n",
            " A* Node expanded: Rimnicu->Pitesti(317, 417)\n",
            "A* Frontier: ['Pitesti->Bucharest(418, 418)', 'Arad->Zerind(75, 449)', 'Arad->Timisoara(118, 447)', 'Sibiu->Oradea(291, 671)', 'Rimnicu->Craiova(366, 526)', 'Fagaras->Bucharest(450, 450)', 'Pitesti->Craiova(455, 615)']\n",
            "\n",
            "A* Path: ['Arad', 'Sibiu', 'Rimnicu', 'Pitesti', 'Bucharest']\n",
            "Total Cost: 418\n",
            "Nodes Expanded: ['Arad', 'Sibiu', 'Rimnicu', 'Fagaras', 'Pitesti']\n"
          ]
        }
      ],
      "source": [
        "#A Search* Implementation\n",
        "import heapq # used to impliment a priority queue\n",
        "\n",
        "# Heuristic values (straight-line distance to Bucharest)\n",
        "heuristic = {\n",
        "    'Arad': 366, 'Bucharest': 0, 'Craiova': 160, 'Drobeta': 242, 'Eforie': 161,\n",
        "    'Fagaras': 176, 'Giurgiu': 77, 'Hirsova': 151, 'Iasi': 226, 'Lugoj': 244,\n",
        "    'Mehadia': 241, 'Neamt': 234, 'Oradea': 380, 'Pitesti': 100, 'Rimnicu': 193,\n",
        "    'Sibiu': 253, 'Timisoara': 329, 'Urziceni': 80, 'Vaslui': 199, 'Zerind': 374\n",
        "}\n",
        "#Priority queue\n",
        "def a_star(start, goal, roadmap, heuristic):\n",
        "    frontier = []\n",
        "\n",
        "    ## (estimated_total_cost = cost_so_far + heuristic, cost_so_far, current_city, parent pointer)\n",
        "    heapq.heappush(frontier, (0 + heuristic[start], 0, start, None))\n",
        "    reached = {}\n",
        "    expanded = []\n",
        "\n",
        "    #continue searching until there are no more nodes in the frontier\n",
        "    while frontier:\n",
        "        #pop node with the smallest estimated total cost\n",
        "        current_total, current_cost, current_city, parent = heapq.heappop(frontier)\n",
        "\n",
        "        #if current city is goal, reconstruct the path by following parent pointers\n",
        "        if current_city == goal:\n",
        "            path = []\n",
        "            while parent:\n",
        "                path.append(current_city)\n",
        "                current_city, parent = parent\n",
        "            path.append(start)\n",
        "            path.reverse() # reverese the path to show it from start\n",
        "            return {\n",
        "                'path': path,\n",
        "                'cost': current_cost,\n",
        "                'expanded': expanded\n",
        "            }\n",
        "\n",
        "        #if we already reached this city at lower cost, skip further processing\n",
        "        if current_city in reached and current_cost >= reached[current_city]:\n",
        "            continue\n",
        "        reached[current_city] = current_cost\n",
        "        expanded.append(current_city)\n",
        "\n",
        "        # Expand neighbors of current city\n",
        "        for neighbor in roadmap[current_city]:\n",
        "            new_cost = current_cost + roadmap[current_city][neighbor]\n",
        "            new_total = new_cost + heuristic[neighbor]\n",
        "\n",
        "            #if this is first time reaching or if path is cheaper, then add to frontier\n",
        "            if neighbor not in reached or new_cost < reached.get(neighbor, float('inf')):\n",
        "                heapq.heappush(frontier, (new_total, new_cost, neighbor, (current_city, parent)))\n",
        "\n",
        "        # Print step\n",
        "        parent_str = parent[0] if parent else None\n",
        "        current_str = f\"{parent_str}->{current_city}({current_cost}, {current_total})\" if parent_str else f\"{current_city}(0, {heuristic[start]})\"\n",
        "        print(f\" A* Node expanded: {current_str}\")\n",
        "        frontier_list = []\n",
        "        for entry in frontier:\n",
        "            total, cost, city, prnt = entry\n",
        "            prnt_city = prnt[0] if prnt else None\n",
        "            frontier_list.append(f\"{prnt_city}->{city}({cost}, {total})\" if prnt_city else f\"{city}({cost}, {total})\")\n",
        "        print(f\"A* Frontier: {frontier_list}\\n\")\n",
        "\n",
        "    return None\n",
        "\n",
        "# Test A*\n",
        "a_star_result = a_star('Arad', 'Bucharest', roadmap, heuristic)\n",
        "print(\"A* Path:\", a_star_result['path'])\n",
        "print(\"Total Cost:\", a_star_result['cost'])\n",
        "print(\"Nodes Expanded:\", a_star_result['expanded'])"
      ]
    },
    {
      "cell_type": "markdown",
      "metadata": {
        "id": "1EJjcUS0r-Ph"
      },
      "source": [
        "**Extra Credit - algorithm analysis**\n",
        "Runs BFS, DFS and A* and displays solution path, cost, time taken and nodes expanded for comparison."
      ]
    },
    {
      "cell_type": "markdown",
      "source": [],
      "metadata": {
        "id": "AKkRa0RUCdNh"
      }
    },
    {
      "cell_type": "code",
      "source": [
        "\n",
        "import time\n",
        "\n",
        "#Measure BFS Performance\n",
        "start_time = time.perf_counter()\n",
        "bfs_result = bfs('Arad', 'Bucharest', roadmap)\n",
        "end_time = time.perf_counter()\n",
        "bfs_time = end_time - start_time\n",
        "\n",
        "#Measure DFS Performance\n",
        "start_time = time.perf_counter()\n",
        "dfs_result = dfs('Arad', 'Bucharest', roadmap)\n",
        "end_time = time.perf_counter()\n",
        "dfs_time = end_time - start_time\n",
        "\n",
        "# Measure A* Performance\n",
        "start_time = time.perf_counter()\n",
        "astar_result = a_star('Arad', 'Bucharest', roadmap, heuristic)\n",
        "end_time = time.perf_counter()\n",
        "astar_time = end_time - start_time\n",
        "\n",
        "#  Print performance results\n",
        "print(\"=== BFS ===\")\n",
        "print(\"Path:\", bfs_result['path'])\n",
        "print(\"Cost:\", bfs_result['cost'])\n",
        "print(\"Nodes Expanded:\", len(bfs_result['expanded']))\n",
        "print(\"Time: {:.6f} seconds\".format(bfs_time))\n",
        "\n",
        "print(\"\\n=== DFS ===\")\n",
        "print(\"Path:\", dfs_result['path'])\n",
        "print(\"Cost:\", dfs_result['cost'])\n",
        "print(\"Nodes Expanded:\", len(dfs_result['expanded']))\n",
        "print(\"Time: {:.6f} seconds\".format(dfs_time))\n",
        "\n",
        "print(\"\\n=== A* ===\")\n",
        "print(\"Path:\", astar_result['path'])\n",
        "print(\"Cost:\", astar_result['cost'])\n",
        "print(\"Nodes Expanded:\", len(astar_result['expanded']))\n",
        "print(\"Time: {:.6f} seconds\".format(astar_time))\n",
        "\n",
        "#Print Comparison Table\n",
        "print(\"\\n=== Performance Comparison ===\")\n",
        "print(\"Algorithm | Path Cost | Nodes Expanded |   Time (s)\")\n",
        "print(\"---------------------------------------------------\")\n",
        "print(\"BFS       | {:9} | {:14} | {:.6f}\".format(bfs_result['cost'], len(bfs_result['expanded']), bfs_time))\n",
        "print(\"DFS       | {:9} | {:14} | {:.6f}\".format(dfs_result['cost'], len(dfs_result['expanded']), dfs_time))\n",
        "print(\"A*        | {:9} | {:14} | {:.6f}\".format(astar_result['cost'], len(astar_result['expanded']), astar_time))\n",
        "\n"
      ],
      "metadata": {
        "colab": {
          "base_uri": "https://localhost:8080/"
        },
        "id": "gF-3CU8Hae-v",
        "outputId": "447a0491-98aa-4954-9ba7-78a805739ddf"
      },
      "execution_count": 33,
      "outputs": [
        {
          "output_type": "stream",
          "name": "stdout",
          "text": [
            "BFS Node expanded: Arad(0)\n",
            " BFS Frontier: ['Arad->Zerind(75)', 'Arad->Sibiu(140)', 'Arad->Timisoara(118)']\n",
            "\n",
            "BFS Node expanded: Arad->Zerind(75)\n",
            " BFS Frontier: ['Arad->Sibiu(140)', 'Arad->Timisoara(118)', 'Zerind->Oradea(146)']\n",
            "\n",
            "BFS Node expanded: Arad->Sibiu(140)\n",
            " BFS Frontier: ['Arad->Timisoara(118)', 'Zerind->Oradea(146)', 'Sibiu->Fagaras(239)', 'Sibiu->Oradea(291)', 'Sibiu->Rimnicu(220)']\n",
            "\n",
            "BFS Node expanded: Arad->Timisoara(118)\n",
            " BFS Frontier: ['Zerind->Oradea(146)', 'Sibiu->Fagaras(239)', 'Sibiu->Oradea(291)', 'Sibiu->Rimnicu(220)', 'Timisoara->Lugoj(229)']\n",
            "\n",
            "BFS Node expanded: Zerind->Oradea(146)\n",
            " BFS Frontier: ['Sibiu->Fagaras(239)', 'Sibiu->Oradea(291)', 'Sibiu->Rimnicu(220)', 'Timisoara->Lugoj(229)']\n",
            "\n",
            "BFS Node expanded: Sibiu->Fagaras(239)\n",
            " BFS Frontier: ['Sibiu->Oradea(291)', 'Sibiu->Rimnicu(220)', 'Timisoara->Lugoj(229)', 'Fagaras->Bucharest(450)']\n",
            "\n",
            "BFS Node expanded: Sibiu->Rimnicu(220)\n",
            " BFS Frontier: ['Timisoara->Lugoj(229)', 'Fagaras->Bucharest(450)', 'Rimnicu->Craiova(366)', 'Rimnicu->Pitesti(317)']\n",
            "\n",
            "BFS Node expanded: Timisoara->Lugoj(229)\n",
            " BFS Frontier: ['Fagaras->Bucharest(450)', 'Rimnicu->Craiova(366)', 'Rimnicu->Pitesti(317)', 'Lugoj->Mehadia(299)']\n",
            "\n",
            "DFS Node expanded: Arad(0)\n",
            "DFS Frontier: ['Arad->Timisoara(118)', 'Arad->Sibiu(140)', 'Arad->Zerind(75)']\n",
            "\n",
            "DFS Node expanded: Arad->Zerind(75)\n",
            "DFS Frontier: ['Arad->Timisoara(118)', 'Arad->Sibiu(140)', 'Zerind->Oradea(146)']\n",
            "\n",
            "DFS Node expanded: Zerind->Oradea(146)\n",
            "DFS Frontier: ['Arad->Timisoara(118)', 'Arad->Sibiu(140)', 'Oradea->Sibiu(297)']\n",
            "\n",
            "DFS Node expanded: Oradea->Sibiu(297)\n",
            "DFS Frontier: ['Arad->Timisoara(118)', 'Arad->Sibiu(140)', 'Sibiu->Rimnicu(377)', 'Sibiu->Fagaras(396)']\n",
            "\n",
            "DFS Node expanded: Sibiu->Fagaras(396)\n",
            "DFS Frontier: ['Arad->Timisoara(118)', 'Arad->Sibiu(140)', 'Sibiu->Rimnicu(377)', 'Fagaras->Bucharest(607)']\n",
            "\n",
            " A* Node expanded: Arad(0, 366)\n",
            "A* Frontier: ['Arad->Sibiu(140, 393)', 'Arad->Zerind(75, 449)', 'Arad->Timisoara(118, 447)']\n",
            "\n",
            " A* Node expanded: Arad->Sibiu(140, 393)\n",
            "A* Frontier: ['Sibiu->Rimnicu(220, 413)', 'Sibiu->Fagaras(239, 415)', 'Arad->Timisoara(118, 447)', 'Sibiu->Oradea(291, 671)', 'Arad->Zerind(75, 449)']\n",
            "\n",
            " A* Node expanded: Sibiu->Rimnicu(220, 413)\n",
            "A* Frontier: ['Sibiu->Fagaras(239, 415)', 'Arad->Zerind(75, 449)', 'Rimnicu->Pitesti(317, 417)', 'Sibiu->Oradea(291, 671)', 'Rimnicu->Craiova(366, 526)', 'Arad->Timisoara(118, 447)']\n",
            "\n",
            " A* Node expanded: Sibiu->Fagaras(239, 415)\n",
            "A* Frontier: ['Rimnicu->Pitesti(317, 417)', 'Arad->Zerind(75, 449)', 'Arad->Timisoara(118, 447)', 'Sibiu->Oradea(291, 671)', 'Rimnicu->Craiova(366, 526)', 'Fagaras->Bucharest(450, 450)']\n",
            "\n",
            " A* Node expanded: Rimnicu->Pitesti(317, 417)\n",
            "A* Frontier: ['Pitesti->Bucharest(418, 418)', 'Arad->Zerind(75, 449)', 'Arad->Timisoara(118, 447)', 'Sibiu->Oradea(291, 671)', 'Rimnicu->Craiova(366, 526)', 'Fagaras->Bucharest(450, 450)', 'Pitesti->Craiova(455, 615)']\n",
            "\n",
            "=== BFS ===\n",
            "Path: ['Arad', 'Sibiu', 'Fagaras', 'Bucharest']\n",
            "Cost: 450\n",
            "Nodes Expanded: 8\n",
            "Time: 0.000325 seconds\n",
            "\n",
            "=== DFS ===\n",
            "Path: ['Arad', 'Zerind', 'Oradea', 'Sibiu', 'Fagaras', 'Bucharest']\n",
            "Cost: 607\n",
            "Nodes Expanded: 5\n",
            "Time: 0.000143 seconds\n",
            "\n",
            "=== A* ===\n",
            "Path: ['Arad', 'Sibiu', 'Rimnicu', 'Pitesti', 'Bucharest']\n",
            "Cost: 418\n",
            "Nodes Expanded: 5\n",
            "Time: 0.000137 seconds\n",
            "\n",
            "=== Performance Comparison ===\n",
            "Algorithm | Path Cost | Nodes Expanded |   Time (s)\n",
            "---------------------------------------------------\n",
            "BFS       |       450 |              8 | 0.000325\n",
            "DFS       |       607 |              5 | 0.000143\n",
            "A*        |       418 |              5 | 0.000137\n"
          ]
        }
      ]
    },
    {
      "cell_type": "markdown",
      "source": [
        "Observations: Based on our results, BFS expanded the most nodes and returned a path with a cost of 450, but in a weighted graph it only guarantees the fewest-edge path rather than the optimal cost. DFS, while expanding fewer nodes in this run, ended up with a significantly higher-cost path (607) due to its deep backtracking nature. In contrast, A* search efficiently incorporating heuristic values and identified the optimal path with a cost of 418, while expanding only 5 nodes.\n",
        "This illustrates the trade-offs among the search strategies: BFS is exhaustive but not cost-optimal in weighted scenarios, DFS can be fast yet suboptimal, and A* effectively balances exploration and cost optimization through its heuristic guidance."
      ],
      "metadata": {
        "id": "CQIkiGImroRg"
      }
    }
  ],
  "metadata": {
    "colab": {
      "provenance": []
    },
    "kernelspec": {
      "display_name": "Python 3",
      "name": "python3"
    },
    "language_info": {
      "name": "python"
    }
  },
  "nbformat": 4,
  "nbformat_minor": 0
}
